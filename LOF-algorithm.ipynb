{
 "cells": [
  {
   "cell_type": "code",
   "execution_count": null,
   "metadata": {},
   "outputs": [],
   "source": [
    "# LOF Algorithm\n",
    "# importing libraries\n",
    "import numpy as np\n",
    "import pandas as pd\n",
    "from sklearn.neighbors import LocalOutlierFactor\n",
    "from sklearn.metrics import accuracy_score\n",
    "\n",
    "# loading the dataset\n",
    "data = pd.read_csv('creditcard.csv')\n",
    "#data_tp = data.drop(['Class','V15','V16','V17','V18'], axis=1)\n",
    "data_reduced = data.drop(['Class'], axis=1)\n",
    "y_label = data['Class']\n",
    "#considering only one feature\n",
    "data_tp = data_reduced[['V15','V14','V13','V12','V11','V10','V9','V8','V7','V6','V5','V4','V3','V2', 'V1' ]]\n",
    "\n",
    "# Normalizing the dataset\n",
    "from sklearn.preprocessing import StandardScaler\n",
    "scaler = StandardScaler()\n",
    "data_tp = scaler.fit_transform(data_tp)\n",
    "#model -LOF\n",
    "# identify outliers in the training dataset\n",
    "lof = LocalOutlierFactor()\n",
    "y_pred = lof.fit_predict(data_tp)\n",
    "# Replacing the predicted values with 1 and -1\n",
    "y_pred[y_pred == 1] = 0\n",
    "y_pred[y_pred == -1] = 1\n",
    "# Evaluating the model LOF\n",
    "print('Local Outlier Factor Algorithm')\n",
    "print('Anomaly Score:', lof.negative_outlier_factor_)\n",
    "# Evaluating the model\n",
    "print('Local Outlier Factor Algorithm')\n",
    "print('Accuracy:', accuracy_score(y_label, y_pred))\n"
   ]
  }
 ],
 "metadata": {
  "language_info": {
   "name": "python"
  }
 },
 "nbformat": 4,
 "nbformat_minor": 2
}
