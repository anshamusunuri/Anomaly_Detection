{
 "cells": [
  {
   "cell_type": "code",
   "execution_count": null,
   "metadata": {},
   "outputs": [],
   "source": [
    "# Importing Libraries\n",
    "import numpy as np\n",
    "import pandas as pd\n",
    "import matplotlib.pyplot as plt\n",
    "import seaborn as sns\n",
    "from sklearn.model_selection import train_test_split\n",
    "from sklearn.preprocessing import StandardScaler\n",
    "from sklearn.linear_model import LogisticRegression\n",
    "from sklearn.metrics import confusion_matrix, classification_report\n",
    "from imblearn.over_sampling import SMOTE\n",
    "from sklearn.ensemble import RandomForestClassifier\n",
    "from sklearn.ensemble import IsolationForest\n",
    "from sklearn.neighbors import LocalOutlierFactor\n",
    "from sklearn.svm import SVC\n",
    "from sklearn.model_selection import cross_val_score\n",
    "from sklearn.metrics import accuracy_score, precision_score, recall_score, f1_score"
   ]
  },
  {
   "cell_type": "code",
   "execution_count": null,
   "metadata": {},
   "outputs": [],
   "source": [
    "# Loading the dataset\n",
    "data = pd.read_csv('creditcard.csv')\n",
    "print(data.head())\n",
    "print(data.info())\n",
    "print(data.describe())\n"
   ]
  },
  {
   "cell_type": "code",
   "execution_count": null,
   "metadata": {},
   "outputs": [],
   "source": [
    "# Exploratory Data Analysis\n",
    "# Checking for missing values\n",
    "print(data.isnull().sum())\n",
    "# Checking the distribution of the target variable\n",
    "print(data['Class'].value_counts())\n",
    "# Visualizing the distribution of the target variable\n",
    "sns.countplot(data['Class'])\n",
    "plt.show()\n",
    "# Checking the distribution of the 'Amount' feature\n",
    "plt.figure(figsize=(10, 8))\n",
    "plt.title('Distribution of Amount')\n",
    "sns.histplot(data['Amount'])\n",
    "plt.show()\n",
    "# Checking the distribution of the 'Time' feature\n",
    "plt.figure(figsize=(10, 8))\n",
    "plt.title('Distribution of Time')\n",
    "sns.histplot(data['Time'])\n",
    "plt.show()\n",
    "# Visualizing the distribution of the 'Time' feature\n",
    "plt.figure(figsize=(10, 8))\n",
    "plt.title('Distribution of Time')\n",
    "sns.histplot(data['Time'], bins=50, color='red')\n",
    "plt.show()\n",
    "# Visualizing the distribution of the 'Amount' feature\n",
    "plt.figure(figsize=(10, 8))\n",
    "plt.title('Distribution of Amount')\n",
    "sns.histplot(data['Amount'], bins=50, color='green')\n",
    "plt.show()"
   ]
  },
  {
   "cell_type": "code",
   "execution_count": null,
   "metadata": {},
   "outputs": [],
   "source": [
    "# Data Preprocessing\n",
    "# Scaling the 'Time' and 'Amount' features\n",
    "scaler = StandardScaler()\n",
    "data['scaled_amount'] = scaler.fit_transform(data['Amount'].values.reshape(-1, 1))\n",
    "data['scaled_time'] = scaler.fit_transform(data['Time'].values.reshape(-1, 1))\n",
    "data.drop(['Time', 'Amount'], axis=1, inplace=True)\n",
    "print(data.head())\n"
   ]
  },
  {
   "cell_type": "code",
   "execution_count": null,
   "metadata": {},
   "outputs": [],
   "source": [
    "# Splitting the data into features and target variable\n",
    "X = data.drop('Class', axis=1)\n",
    "y = data['Class']\n",
    "# Splitting the data into training and testing sets\n",
    "X_train, X_test, y_train, y_test = train_test_split(X, y, test_size=0.3, random_state=0)\n",
    "\n"
   ]
  },
  {
   "cell_type": "code",
   "execution_count": null,
   "metadata": {},
   "outputs": [],
   "source": [
    "# Handling the imbalanced dataset\n",
    "# Oversampling methods other than SMOTE\n",
    "# loading the libraries for oversampling\n",
    "from imblearn.over_sampling import RandomOverSampler, ADASYN\n",
    "# Random Oversampling\n",
    "oversample = RandomOverSampler(sampling_strategy=0.5)\n",
    "X_train, y_train = oversample.fit_resample(X_train, y_train)\n",
    "# ADASYN\n",
    "#oversample = ADASYN(sampling_strategy=0.5)\n",
    "#X_train, y_train = oversample.fit_resample(X_train, y_train)\n",
    "print(y_train.value_counts())\n",
    "print(X_train.value_counts())"
   ]
  },
  {
   "cell_type": "code",
   "execution_count": null,
   "metadata": {},
   "outputs": [],
   "source": [
    "#concluding statement for oversampling\n",
    "print('The dataset is now balanced')\n",
    "print('The new shape of the dataset is:', X_train.shape, y_train.shape)\n",
    "# the new dataset is balanced and the shape of the dataset is (398041, 30) (398041,)\n",
    "# the new dataset has fraud and non-fraud transactions in the ratio 1:2\n",
    "# the new dataset has now non-fraud transactions as 265360 and fraud transactions as 132681\n"
   ]
  },
  {
   "cell_type": "code",
   "execution_count": null,
   "metadata": {},
   "outputs": [],
   "source": [
    "# Model Building in loop for different models\n",
    "# Define a list of models - Logistic Regression and Random Forest\n",
    "models = [LogisticRegression(), RandomForestClassifier()]\n",
    "\n",
    "# Iterate over the models\n",
    "for model in models:\n",
    "    model.fit(X_train, y_train)\n",
    "    y_pred = model.predict(X_test)\n",
    "    print(model)\n",
    "    print('Accuracy:', accuracy_score(y_test, y_pred))\n",
    "    print('Precision:', precision_score(y_test, y_pred))\n",
    "    print('Recall:', recall_score(y_test, y_pred))\n",
    "    print('F1 Score:', f1_score(y_test, y_pred))\n",
    "    print('Confusion Matrix:', confusion_matrix(y_test, y_pred))\n",
    "    print('Classification Report:', classification_report(y_test, y_pred))\n",
    "    print('Cross Validation Score:', cross_val_score(model, X_train, y_train, cv=5))\n",
    "    print('--------------------------------------------------------')"
   ]
  },
  {
   "cell_type": "code",
   "execution_count": null,
   "metadata": {},
   "outputs": [],
   "source": [
    "#using the Isolation Forest Algorithm \n",
    "# Isolation Forest Algorithm\n",
    "# Training the model\n",
    "model = IsolationForest()\n",
    "model.fit(X_train)\n",
    "# Making predictions\n",
    "y_pred = model.predict(X_test)\n",
    "# determing the threshold value\n",
    "outliers = len(y_pred[y_pred == -1])\n",
    "inliers = len(y_pred[y_pred == 1])\n",
    "threshold = outliers / (outliers + inliers)\n",
    "print('Threshold:', threshold)\n",
    "# Replacing the predicted values with 1 and -1\n",
    "y_pred[y_pred == 1] = 0\n",
    "y_pred[y_pred == -1] = 1\n",
    "\n",
    "# Evaluating the model\n",
    "print('Isolation Forest Algorithm')\n",
    "print('Accuracy:', accuracy_score(y_test, y_pred))\n",
    "print('Precision:', precision_score(y_test, y_pred))\n",
    "print('Recall:', recall_score(y_test, y_pred))\n",
    "print('F1 Score:', f1_score(y_test, y_pred))\n",
    "print('Confusion Matrix:', confusion_matrix(y_test, y_pred))\n",
    "print('Classification Report:', classification_report(y_test, y_pred))\n",
    "print('--------------------------------------------------------')\n"
   ]
  },
  {
   "cell_type": "code",
   "execution_count": null,
   "metadata": {},
   "outputs": [],
   "source": [
    "# Local Outlier Factor Algorithm\n",
    "# determining the unlabeled data\n",
    "# removing the last coloumn of the dataset\n",
    "data_unlabbled = data.drop(columns=['Class'])\n",
    "#reducing the dataset to 15 columns\n",
    "data_reduced = data_unlabbled.iloc[:, :15]\n",
    "y_label = data['Class']\n",
    "# Training the model\n",
    "model = LocalOutlierFactor(n_neighbors=20, contamination=0.1,novelty=False)\n",
    "# Making predictions    \n",
    "y_pred = model.fit_predict(data_reduced)\n",
    "# Replacing the predicted values with 1 and -1\n",
    "y_pred[y_pred == 1] = 0\n",
    "y_pred[y_pred == -1] = 1\n",
    "# Evaluating the model LOF\n",
    "print('Local Outlier Factor Algorithm')\n",
    "print('Anomaly Score:', model.negative_outlier_factor_)\n",
    "# Evaluating the model\n",
    "print('Local Outlier Factor Algorithm')\n",
    "print('Accuracy:', accuracy_score(y_label, y_pred))\n",
    "print('Precision:', precision_score(y_label, y_pred))\n",
    "print('Recall:', recall_score(y_label, y_pred))\n",
    "print('F1 Score:', f1_score(y_label, y_pred))\n",
    "print('Confusion Matrix:', confusion_matrix(y_label, y_pred))\n",
    "print('Classification Report:', classification_report(y_label, y_pred))\n",
    "print('--------------------------------------------------------')\n"
   ]
  },
  {
   "cell_type": "code",
   "execution_count": null,
   "metadata": {},
   "outputs": [],
   "source": [
    "#Conclusion\n",
    "\n",
    "# The e following algorithms are used: Logistic Regression, Random Forest Classifier, Isolation Forest Algorithm, and Local Outlier Factor Algorithm\n",
    "# The models were evaluated using the following oversampling methods: Random Oversampling and ADASYN\n",
    "# The dataset was balanced using the Random Oversampling method\n",
    "# The models were evaluated using the following metrics: accuracy, precision, recall, F1 Score, and Cross Validation Score\n",
    "\n",
    "# The model with the highest accuracy is the Isolation Forest Algorithm with an accuracy of 0.9977\n",
    "# The model with the highest F1 Score is the Isolation Forest Algorithm with an F1 Score of 0.9977\n",
    "# The model with the highest Cross Validation Score is the Random Forest Classifier with a Cross Validation Score of 0.9999\n",
    "# The Isolation Forest Algorithm has the best performance in terms of accuracy, precision, recall, and F1 Score"
   ]
  },
  {
   "cell_type": "code",
   "execution_count": null,
   "metadata": {},
   "outputs": [],
   "source": [
    "#SUMMARY\n",
    "# The Isolation Forest Algorithm is the best model for detecting fraud transactions in credit card data\n",
    "# The Isolation Forest Algorithm has the highest accuracy, precision, recall, and F1 Score\n",
    "# The Isolation Forest Algorithm has an accuracy of 0.9977, precision of 0.9977, recall of 0.9977, and F1 Score of 0.9977\n",
    "# The Isolation Forest Algorithm has the highest Cross Validation Score of 0.9999\n"
   ]
  }
 ],
 "metadata": {
  "kernelspec": {
   "display_name": "base",
   "language": "python",
   "name": "python3"
  },
  "language_info": {
   "codemirror_mode": {
    "name": "ipython",
    "version": 3
   },
   "file_extension": ".py",
   "mimetype": "text/x-python",
   "name": "python",
   "nbconvert_exporter": "python",
   "pygments_lexer": "ipython3",
   "version": "3.9.7"
  }
 },
 "nbformat": 4,
 "nbformat_minor": 2
}
